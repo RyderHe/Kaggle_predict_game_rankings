{
 "cells": [
  {
   "cell_type": "code",
   "execution_count": 1,
   "metadata": {},
   "outputs": [],
   "source": [
    "import pandas as pd\n",
    "import numpy as np\n",
    "import random\n",
    "\n",
    "# set seed\n",
    "val = 52\n",
    "random.seed(val)\n",
    "np.random.seed(val)"
   ]
  },
  {
   "cell_type": "markdown",
   "metadata": {},
   "source": [
    "# 1. Load Data"
   ]
  },
  {
   "cell_type": "code",
   "execution_count": 2,
   "metadata": {},
   "outputs": [],
   "source": [
    "train = pd.read_csv(\"train.csv\")\n",
    "test = pd.read_csv(\"test.csv\")"
   ]
  },
  {
   "cell_type": "markdown",
   "metadata": {},
   "source": [
    "# 2. Data Cleaning"
   ]
  },
  {
   "cell_type": "code",
   "execution_count": 3,
   "metadata": {},
   "outputs": [],
   "source": [
    "train[\"rank\"] = train[\"audio-rank\"] + train[\"humor-rank\"] + train[\"innovation-rank\"] + train[\"theme-rank\"] + train[\"graphics-rank\"] + train[\"mood-rank\"] + train[\"fun-rank\"]\n",
    "test[\"rank\"] = test[\"audio-rank\"] + test[\"humor-rank\"] + test[\"innovation-rank\"] + test[\"theme-rank\"] + test[\"graphics-rank\"] + test[\"mood-rank\"] + test[\"fun-rank\"]\n",
    "\n",
    "test_id = test[\"id\"]\n",
    "\n",
    "features_drop = [\"id\", \"name\", \"slug\", \"path\", \"description\", \"links\", \"link-tags\", \n",
    "                \"version\", \"num-comments\", \"competition-num\", \"published\", \"modified\", \n",
    "                \"ratings-given\",\"ratings-received\", \"num-authors\", \"prev-games\", \"feedback-karma\", \n",
    "                \"audio-rank\", \"humor-rank\", \"innovation-rank\", \"theme-rank\", \n",
    "                \"graphics-rank\", \"mood-rank\", \"fun-rank\"]\n",
    "train = train.drop(features_drop, axis = 1)\n",
    "test = test.drop(features_drop, axis = 1)\n",
    "\n",
    "train.replace(-1, 0, inplace=True)\n",
    "test.replace(-1, 0, inplace=True)"
   ]
  },
  {
   "cell_type": "code",
   "execution_count": 4,
   "metadata": {},
   "outputs": [
    {
     "name": "stdout",
     "output_type": "stream",
     "text": [
      "<class 'pandas.core.frame.DataFrame'>\n",
      "RangeIndex: 21948 entries, 0 to 21947\n",
      "Data columns (total 10 columns):\n",
      " #   Column              Non-Null Count  Dtype  \n",
      "---  ------              --------------  -----  \n",
      " 0   category            21948 non-null  object \n",
      " 1   fun-average         21948 non-null  float64\n",
      " 2   innovation-average  21948 non-null  float64\n",
      " 3   theme-average       21948 non-null  float64\n",
      " 4   graphics-average    21948 non-null  float64\n",
      " 5   audio-average       21948 non-null  float64\n",
      " 6   humor-average       21948 non-null  float64\n",
      " 7   mood-average        21948 non-null  float64\n",
      " 8   label               21948 non-null  int64  \n",
      " 9   rank                21948 non-null  int64  \n",
      "dtypes: float64(7), int64(2), object(1)\n",
      "memory usage: 1.7+ MB\n"
     ]
    }
   ],
   "source": [
    "train.info()"
   ]
  },
  {
   "cell_type": "code",
   "execution_count": 5,
   "metadata": {},
   "outputs": [
    {
     "name": "stdout",
     "output_type": "stream",
     "text": [
      "<class 'pandas.core.frame.DataFrame'>\n",
      "RangeIndex: 4959 entries, 0 to 4958\n",
      "Data columns (total 9 columns):\n",
      " #   Column              Non-Null Count  Dtype  \n",
      "---  ------              --------------  -----  \n",
      " 0   category            4959 non-null   object \n",
      " 1   fun-average         4959 non-null   float64\n",
      " 2   innovation-average  4959 non-null   float64\n",
      " 3   theme-average       4959 non-null   float64\n",
      " 4   graphics-average    4959 non-null   float64\n",
      " 5   audio-average       4959 non-null   float64\n",
      " 6   humor-average       4959 non-null   float64\n",
      " 7   mood-average        4959 non-null   float64\n",
      " 8   rank                4959 non-null   int64  \n",
      "dtypes: float64(7), int64(1), object(1)\n",
      "memory usage: 348.8+ KB\n"
     ]
    }
   ],
   "source": [
    "test.info()"
   ]
  },
  {
   "cell_type": "code",
   "execution_count": 6,
   "metadata": {},
   "outputs": [],
   "source": [
    "category_mapping = {\"jam\":0, \"compo\": 1}\n",
    "train_test_data = [train, test] #combining train and test dataset\n",
    "\n",
    "for dataset in train_test_data:\n",
    "    dataset[\"category\"] = dataset[\"category\"].map(category_mapping)"
   ]
  },
  {
   "cell_type": "code",
   "execution_count": 7,
   "metadata": {},
   "outputs": [
    {
     "data": {
      "text/html": [
       "<div>\n",
       "<style scoped>\n",
       "    .dataframe tbody tr th:only-of-type {\n",
       "        vertical-align: middle;\n",
       "    }\n",
       "\n",
       "    .dataframe tbody tr th {\n",
       "        vertical-align: top;\n",
       "    }\n",
       "\n",
       "    .dataframe thead th {\n",
       "        text-align: right;\n",
       "    }\n",
       "</style>\n",
       "<table border=\"1\" class=\"dataframe\">\n",
       "  <thead>\n",
       "    <tr style=\"text-align: right;\">\n",
       "      <th></th>\n",
       "      <th>category</th>\n",
       "      <th>fun-average</th>\n",
       "      <th>innovation-average</th>\n",
       "      <th>theme-average</th>\n",
       "      <th>graphics-average</th>\n",
       "      <th>audio-average</th>\n",
       "      <th>humor-average</th>\n",
       "      <th>mood-average</th>\n",
       "      <th>label</th>\n",
       "      <th>rank</th>\n",
       "    </tr>\n",
       "  </thead>\n",
       "  <tbody>\n",
       "    <tr>\n",
       "      <th>0</th>\n",
       "      <td>0</td>\n",
       "      <td>3.840</td>\n",
       "      <td>3.280</td>\n",
       "      <td>3.720</td>\n",
       "      <td>3.680</td>\n",
       "      <td>0.000</td>\n",
       "      <td>4.000</td>\n",
       "      <td>3.609</td>\n",
       "      <td>4</td>\n",
       "      <td>1183</td>\n",
       "    </tr>\n",
       "    <tr>\n",
       "      <th>1</th>\n",
       "      <td>1</td>\n",
       "      <td>3.519</td>\n",
       "      <td>3.815</td>\n",
       "      <td>4.037</td>\n",
       "      <td>3.815</td>\n",
       "      <td>3.520</td>\n",
       "      <td>3.708</td>\n",
       "      <td>3.692</td>\n",
       "      <td>4</td>\n",
       "      <td>628</td>\n",
       "    </tr>\n",
       "    <tr>\n",
       "      <th>2</th>\n",
       "      <td>0</td>\n",
       "      <td>3.565</td>\n",
       "      <td>3.696</td>\n",
       "      <td>2.913</td>\n",
       "      <td>3.087</td>\n",
       "      <td>3.952</td>\n",
       "      <td>2.190</td>\n",
       "      <td>3.429</td>\n",
       "      <td>4</td>\n",
       "      <td>2306</td>\n",
       "    </tr>\n",
       "    <tr>\n",
       "      <th>3</th>\n",
       "      <td>0</td>\n",
       "      <td>3.550</td>\n",
       "      <td>2.700</td>\n",
       "      <td>3.100</td>\n",
       "      <td>4.000</td>\n",
       "      <td>3.600</td>\n",
       "      <td>2.400</td>\n",
       "      <td>3.400</td>\n",
       "      <td>4</td>\n",
       "      <td>2402</td>\n",
       "    </tr>\n",
       "    <tr>\n",
       "      <th>4</th>\n",
       "      <td>1</td>\n",
       "      <td>3.436</td>\n",
       "      <td>4.077</td>\n",
       "      <td>3.154</td>\n",
       "      <td>2.179</td>\n",
       "      <td>2.108</td>\n",
       "      <td>1.800</td>\n",
       "      <td>2.417</td>\n",
       "      <td>3</td>\n",
       "      <td>2373</td>\n",
       "    </tr>\n",
       "  </tbody>\n",
       "</table>\n",
       "</div>"
      ],
      "text/plain": [
       "   category  fun-average  innovation-average  theme-average  graphics-average  \\\n",
       "0         0        3.840               3.280          3.720             3.680   \n",
       "1         1        3.519               3.815          4.037             3.815   \n",
       "2         0        3.565               3.696          2.913             3.087   \n",
       "3         0        3.550               2.700          3.100             4.000   \n",
       "4         1        3.436               4.077          3.154             2.179   \n",
       "\n",
       "   audio-average  humor-average  mood-average  label  rank  \n",
       "0          0.000          4.000         3.609      4  1183  \n",
       "1          3.520          3.708         3.692      4   628  \n",
       "2          3.952          2.190         3.429      4  2306  \n",
       "3          3.600          2.400         3.400      4  2402  \n",
       "4          2.108          1.800         2.417      3  2373  "
      ]
     },
     "execution_count": 7,
     "metadata": {},
     "output_type": "execute_result"
    }
   ],
   "source": [
    "train.head()"
   ]
  },
  {
   "cell_type": "code",
   "execution_count": 8,
   "metadata": {},
   "outputs": [
    {
     "data": {
      "text/html": [
       "<div>\n",
       "<style scoped>\n",
       "    .dataframe tbody tr th:only-of-type {\n",
       "        vertical-align: middle;\n",
       "    }\n",
       "\n",
       "    .dataframe tbody tr th {\n",
       "        vertical-align: top;\n",
       "    }\n",
       "\n",
       "    .dataframe thead th {\n",
       "        text-align: right;\n",
       "    }\n",
       "</style>\n",
       "<table border=\"1\" class=\"dataframe\">\n",
       "  <thead>\n",
       "    <tr style=\"text-align: right;\">\n",
       "      <th></th>\n",
       "      <th>category</th>\n",
       "      <th>fun-average</th>\n",
       "      <th>innovation-average</th>\n",
       "      <th>theme-average</th>\n",
       "      <th>graphics-average</th>\n",
       "      <th>audio-average</th>\n",
       "      <th>humor-average</th>\n",
       "      <th>mood-average</th>\n",
       "      <th>rank</th>\n",
       "    </tr>\n",
       "  </thead>\n",
       "  <tbody>\n",
       "    <tr>\n",
       "      <th>0</th>\n",
       "      <td>1</td>\n",
       "      <td>4.000</td>\n",
       "      <td>4.000</td>\n",
       "      <td>4.333</td>\n",
       "      <td>3.833</td>\n",
       "      <td>0.000</td>\n",
       "      <td>3.000</td>\n",
       "      <td>4.000</td>\n",
       "      <td>-7</td>\n",
       "    </tr>\n",
       "    <tr>\n",
       "      <th>1</th>\n",
       "      <td>0</td>\n",
       "      <td>2.577</td>\n",
       "      <td>2.654</td>\n",
       "      <td>3.577</td>\n",
       "      <td>3.577</td>\n",
       "      <td>3.654</td>\n",
       "      <td>3.042</td>\n",
       "      <td>3.308</td>\n",
       "      <td>-7</td>\n",
       "    </tr>\n",
       "    <tr>\n",
       "      <th>2</th>\n",
       "      <td>0</td>\n",
       "      <td>3.716</td>\n",
       "      <td>3.770</td>\n",
       "      <td>4.176</td>\n",
       "      <td>4.378</td>\n",
       "      <td>3.595</td>\n",
       "      <td>3.824</td>\n",
       "      <td>3.750</td>\n",
       "      <td>2636</td>\n",
       "    </tr>\n",
       "    <tr>\n",
       "      <th>3</th>\n",
       "      <td>0</td>\n",
       "      <td>3.250</td>\n",
       "      <td>3.000</td>\n",
       "      <td>3.250</td>\n",
       "      <td>2.750</td>\n",
       "      <td>0.000</td>\n",
       "      <td>3.000</td>\n",
       "      <td>3.000</td>\n",
       "      <td>-7</td>\n",
       "    </tr>\n",
       "    <tr>\n",
       "      <th>4</th>\n",
       "      <td>1</td>\n",
       "      <td>3.816</td>\n",
       "      <td>3.105</td>\n",
       "      <td>3.632</td>\n",
       "      <td>3.566</td>\n",
       "      <td>3.921</td>\n",
       "      <td>2.456</td>\n",
       "      <td>3.292</td>\n",
       "      <td>2987</td>\n",
       "    </tr>\n",
       "  </tbody>\n",
       "</table>\n",
       "</div>"
      ],
      "text/plain": [
       "   category  fun-average  innovation-average  theme-average  graphics-average  \\\n",
       "0         1        4.000               4.000          4.333             3.833   \n",
       "1         0        2.577               2.654          3.577             3.577   \n",
       "2         0        3.716               3.770          4.176             4.378   \n",
       "3         0        3.250               3.000          3.250             2.750   \n",
       "4         1        3.816               3.105          3.632             3.566   \n",
       "\n",
       "   audio-average  humor-average  mood-average  rank  \n",
       "0          0.000          3.000         4.000    -7  \n",
       "1          3.654          3.042         3.308    -7  \n",
       "2          3.595          3.824         3.750  2636  \n",
       "3          0.000          3.000         3.000    -7  \n",
       "4          3.921          2.456         3.292  2987  "
      ]
     },
     "execution_count": 8,
     "metadata": {},
     "output_type": "execute_result"
    }
   ],
   "source": [
    "test.head()"
   ]
  },
  {
   "cell_type": "code",
   "execution_count": 9,
   "metadata": {},
   "outputs": [
    {
     "data": {
      "text/plain": [
       "((21948, 9), (21948,))"
      ]
     },
     "execution_count": 9,
     "metadata": {},
     "output_type": "execute_result"
    }
   ],
   "source": [
    "target = train[\"label\"]\n",
    "train_data = train.drop(\"label\", axis = 1)\n",
    "train_data.shape, target.shape"
   ]
  },
  {
   "cell_type": "markdown",
   "metadata": {},
   "source": [
    "## 3. Modelling"
   ]
  },
  {
   "cell_type": "code",
   "execution_count": 10,
   "metadata": {},
   "outputs": [],
   "source": [
    "from sklearn.model_selection import KFold\n",
    "from sklearn.model_selection import cross_val_score"
   ]
  },
  {
   "cell_type": "code",
   "execution_count": 11,
   "metadata": {},
   "outputs": [],
   "source": [
    "k_fold = KFold(n_splits = 10, shuffle = True, random_state = 0)"
   ]
  },
  {
   "cell_type": "code",
   "execution_count": 12,
   "metadata": {},
   "outputs": [],
   "source": [
    "from sklearn.neighbors import KNeighborsClassifier\n",
    "from sklearn.tree import DecisionTreeClassifier\n",
    "from sklearn.ensemble import RandomForestClassifier\n",
    "from sklearn.naive_bayes import GaussianNB\n",
    "# from sklearn.svm import SVC"
   ]
  },
  {
   "cell_type": "code",
   "execution_count": 13,
   "metadata": {},
   "outputs": [
    {
     "data": {
      "text/plain": [
       "85.2288"
      ]
     },
     "execution_count": 13,
     "metadata": {},
     "output_type": "execute_result"
    }
   ],
   "source": [
    "# knn\n",
    "clf = KNeighborsClassifier()#(n_neighbors = 13)\n",
    "scoring = \"accuracy\"\n",
    "score = cross_val_score(clf, train_data, target, cv=k_fold, n_jobs = 1, scoring=scoring)\n",
    "round(np.mean(score)*100, 4)"
   ]
  },
  {
   "cell_type": "code",
   "execution_count": 14,
   "metadata": {},
   "outputs": [
    {
     "data": {
      "text/plain": [
       "91.5391"
      ]
     },
     "execution_count": 14,
     "metadata": {},
     "output_type": "execute_result"
    }
   ],
   "source": [
    "# Decision Tree\n",
    "clf = DecisionTreeClassifier()\n",
    "scoring = \"accuracy\"\n",
    "score = cross_val_score(clf, train_data, target, cv=k_fold, n_jobs = 1, scoring=scoring)\n",
    "round(np.mean(score)*100, 4)"
   ]
  },
  {
   "cell_type": "code",
   "execution_count": 15,
   "metadata": {},
   "outputs": [
    {
     "data": {
      "text/plain": [
       "94.168"
      ]
     },
     "execution_count": 15,
     "metadata": {},
     "output_type": "execute_result"
    }
   ],
   "source": [
    "# Random Forest\n",
    "clf = RandomForestClassifier()#(n_estimators = 13)\n",
    "scoring = \"accuracy\"\n",
    "score = cross_val_score(clf, train_data, target, cv=k_fold, n_jobs = 1, scoring=scoring)\n",
    "round(np.mean(score)*100, 4)"
   ]
  },
  {
   "cell_type": "code",
   "execution_count": 16,
   "metadata": {},
   "outputs": [
    {
     "data": {
      "text/plain": [
       "85.3745"
      ]
     },
     "execution_count": 16,
     "metadata": {},
     "output_type": "execute_result"
    }
   ],
   "source": [
    "# naive Bayes\n",
    "clf = GaussianNB()\n",
    "scoring = \"accuracy\"\n",
    "score = cross_val_score(clf, train_data, target, cv=k_fold, n_jobs = 1, scoring=scoring)\n",
    "round(np.mean(score)*100, 4)"
   ]
  },
  {
   "cell_type": "markdown",
   "metadata": {},
   "source": [
    "## 4. Predicting"
   ]
  },
  {
   "cell_type": "code",
   "execution_count": 17,
   "metadata": {},
   "outputs": [],
   "source": [
    "clf = RandomForestClassifier()#(n_estimators = 13)\n",
    "clf.fit(train_data, target)\n",
    "\n",
    "# test_data = test.drop(\"id\", axis = 1).copy()\n",
    "# prediction = clf.predict(test_data)\n",
    "prediction = clf.predict(test)"
   ]
  },
  {
   "cell_type": "code",
   "execution_count": 18,
   "metadata": {},
   "outputs": [],
   "source": [
    "submission = pd.DataFrame({\n",
    "    \"id\":test_id, \n",
    "    \"label\":prediction\n",
    "})"
   ]
  },
  {
   "cell_type": "code",
   "execution_count": 19,
   "metadata": {},
   "outputs": [
    {
     "data": {
      "text/html": [
       "<div>\n",
       "<style scoped>\n",
       "    .dataframe tbody tr th:only-of-type {\n",
       "        vertical-align: middle;\n",
       "    }\n",
       "\n",
       "    .dataframe tbody tr th {\n",
       "        vertical-align: top;\n",
       "    }\n",
       "\n",
       "    .dataframe thead th {\n",
       "        text-align: right;\n",
       "    }\n",
       "</style>\n",
       "<table border=\"1\" class=\"dataframe\">\n",
       "  <thead>\n",
       "    <tr style=\"text-align: right;\">\n",
       "      <th></th>\n",
       "      <th>id</th>\n",
       "      <th>label</th>\n",
       "    </tr>\n",
       "  </thead>\n",
       "  <tbody>\n",
       "    <tr>\n",
       "      <th>0</th>\n",
       "      <td>187282</td>\n",
       "      <td>0</td>\n",
       "    </tr>\n",
       "    <tr>\n",
       "      <th>1</th>\n",
       "      <td>191602</td>\n",
       "      <td>0</td>\n",
       "    </tr>\n",
       "    <tr>\n",
       "      <th>2</th>\n",
       "      <td>180566</td>\n",
       "      <td>4</td>\n",
       "    </tr>\n",
       "    <tr>\n",
       "      <th>3</th>\n",
       "      <td>182197</td>\n",
       "      <td>0</td>\n",
       "    </tr>\n",
       "    <tr>\n",
       "      <th>4</th>\n",
       "      <td>189638</td>\n",
       "      <td>4</td>\n",
       "    </tr>\n",
       "    <tr>\n",
       "      <th>5</th>\n",
       "      <td>199600</td>\n",
       "      <td>3</td>\n",
       "    </tr>\n",
       "    <tr>\n",
       "      <th>6</th>\n",
       "      <td>182223</td>\n",
       "      <td>3</td>\n",
       "    </tr>\n",
       "    <tr>\n",
       "      <th>7</th>\n",
       "      <td>185912</td>\n",
       "      <td>3</td>\n",
       "    </tr>\n",
       "    <tr>\n",
       "      <th>8</th>\n",
       "      <td>203413</td>\n",
       "      <td>3</td>\n",
       "    </tr>\n",
       "    <tr>\n",
       "      <th>9</th>\n",
       "      <td>185184</td>\n",
       "      <td>0</td>\n",
       "    </tr>\n",
       "    <tr>\n",
       "      <th>10</th>\n",
       "      <td>191444</td>\n",
       "      <td>3</td>\n",
       "    </tr>\n",
       "    <tr>\n",
       "      <th>11</th>\n",
       "      <td>196951</td>\n",
       "      <td>3</td>\n",
       "    </tr>\n",
       "    <tr>\n",
       "      <th>12</th>\n",
       "      <td>199479</td>\n",
       "      <td>3</td>\n",
       "    </tr>\n",
       "    <tr>\n",
       "      <th>13</th>\n",
       "      <td>202432</td>\n",
       "      <td>3</td>\n",
       "    </tr>\n",
       "    <tr>\n",
       "      <th>14</th>\n",
       "      <td>181788</td>\n",
       "      <td>3</td>\n",
       "    </tr>\n",
       "    <tr>\n",
       "      <th>15</th>\n",
       "      <td>181957</td>\n",
       "      <td>3</td>\n",
       "    </tr>\n",
       "    <tr>\n",
       "      <th>16</th>\n",
       "      <td>184077</td>\n",
       "      <td>3</td>\n",
       "    </tr>\n",
       "    <tr>\n",
       "      <th>17</th>\n",
       "      <td>184417</td>\n",
       "      <td>4</td>\n",
       "    </tr>\n",
       "    <tr>\n",
       "      <th>18</th>\n",
       "      <td>186298</td>\n",
       "      <td>4</td>\n",
       "    </tr>\n",
       "    <tr>\n",
       "      <th>19</th>\n",
       "      <td>189126</td>\n",
       "      <td>4</td>\n",
       "    </tr>\n",
       "  </tbody>\n",
       "</table>\n",
       "</div>"
      ],
      "text/plain": [
       "        id  label\n",
       "0   187282      0\n",
       "1   191602      0\n",
       "2   180566      4\n",
       "3   182197      0\n",
       "4   189638      4\n",
       "5   199600      3\n",
       "6   182223      3\n",
       "7   185912      3\n",
       "8   203413      3\n",
       "9   185184      0\n",
       "10  191444      3\n",
       "11  196951      3\n",
       "12  199479      3\n",
       "13  202432      3\n",
       "14  181788      3\n",
       "15  181957      3\n",
       "16  184077      3\n",
       "17  184417      4\n",
       "18  186298      4\n",
       "19  189126      4"
      ]
     },
     "execution_count": 19,
     "metadata": {},
     "output_type": "execute_result"
    }
   ],
   "source": [
    "submission.to_csv(\"submission_random_forest.csv\", index = False)\n",
    "submission.head(20)"
   ]
  }
 ],
 "metadata": {
  "kernelspec": {
   "display_name": "Python 3",
   "language": "python",
   "name": "python3"
  },
  "language_info": {
   "codemirror_mode": {
    "name": "ipython",
    "version": 3
   },
   "file_extension": ".py",
   "mimetype": "text/x-python",
   "name": "python",
   "nbconvert_exporter": "python",
   "pygments_lexer": "ipython3",
   "version": "3.6.10"
  }
 },
 "nbformat": 4,
 "nbformat_minor": 4
}
